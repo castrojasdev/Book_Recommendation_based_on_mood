{
 "cells": [
  {
   "cell_type": "markdown",
   "id": "6e230b92",
   "metadata": {},
   "source": [
    "# Book Recommendation System"
   ]
  },
  {
   "cell_type": "markdown",
   "id": "1d0c49b8",
   "metadata": {},
   "source": [
    "## Import all Packages "
   ]
  },
  {
   "cell_type": "code",
   "execution_count": 1,
   "id": "38f00d06",
   "metadata": {},
   "outputs": [],
   "source": [
    "import pandas as pd\n",
    "import numpy as np\n",
    "import pandas as pd\n",
    "import nltk\n",
    "import json\n",
    "import re\n",
    "import csv\n",
    "from tqdm import tqdm\n",
    "from textblob import TextBlob"
   ]
  },
  {
   "cell_type": "markdown",
   "id": "93f5623c",
   "metadata": {},
   "source": [
    "## Open and try to read all contents"
   ]
  },
  {
   "cell_type": "code",
   "execution_count": 2,
   "id": "9a165cc5",
   "metadata": {},
   "outputs": [
    {
     "name": "stderr",
     "output_type": "stream",
     "text": [
      "16559it [00:01, 9450.67it/s] \n"
     ]
    }
   ],
   "source": [
    "\n",
    "pd.set_option('display.max_colwidth', 300)\n",
    "\n",
    "data = []\n",
    "\n",
    "with open(\"../BOOK_DATASET/booksummaries.txt\", 'r', encoding='utf-8') as f:\n",
    "    reader = csv.reader(f, dialect='excel-tab')\n",
    "    for row in tqdm(reader):\n",
    "        data.append(row)\n"
   ]
  },
  {
   "cell_type": "markdown",
   "id": "1ae21233",
   "metadata": {},
   "source": [
    "## We append a all attributes in csv"
   ]
  },
  {
   "cell_type": "code",
   "execution_count": 3,
   "id": "07f81924",
   "metadata": {},
   "outputs": [
    {
     "name": "stderr",
     "output_type": "stream",
     "text": [
      "100%|████████████████████████████████████████████████████████████████████████| 16559/16559 [00:00<00:00, 346723.04it/s]\n"
     ]
    },
    {
     "data": {
      "text/html": [
       "<div>\n",
       "<style scoped>\n",
       "    .dataframe tbody tr th:only-of-type {\n",
       "        vertical-align: middle;\n",
       "    }\n",
       "\n",
       "    .dataframe tbody tr th {\n",
       "        vertical-align: top;\n",
       "    }\n",
       "\n",
       "    .dataframe thead th {\n",
       "        text-align: right;\n",
       "    }\n",
       "</style>\n",
       "<table border=\"1\" class=\"dataframe\">\n",
       "  <thead>\n",
       "    <tr style=\"text-align: right;\">\n",
       "      <th></th>\n",
       "      <th>Index</th>\n",
       "      <th>ID</th>\n",
       "      <th>BookTitle</th>\n",
       "      <th>Author</th>\n",
       "      <th>Genre</th>\n",
       "      <th>Summary</th>\n",
       "    </tr>\n",
       "  </thead>\n",
       "  <tbody>\n",
       "    <tr>\n",
       "      <th>0</th>\n",
       "      <td>1</td>\n",
       "      <td>620</td>\n",
       "      <td>Animal Farm</td>\n",
       "      <td>George Orwell</td>\n",
       "      <td>{\"/m/016lj8\": \"Roman \\u00e0 clef\", \"/m/06nbt\": \"Satire\", \"/m/0dwly\": \"Children's literature\", \"/m/014dfn\": \"Speculative fiction\", \"/m/02xlf\": \"Fiction\"}</td>\n",
       "      <td>Old Major, the old boar on the Manor Farm, calls the animals on the farm for a meeting, where he compares the humans to parasites and teaches the animals a revolutionary song, 'Beasts of England'. When Major dies, two young pigs, Snowball and Napoleon, assume command and turn his dream into a p...</td>\n",
       "    </tr>\n",
       "    <tr>\n",
       "      <th>1</th>\n",
       "      <td>2</td>\n",
       "      <td>843</td>\n",
       "      <td>A Clockwork Orange</td>\n",
       "      <td>Anthony Burgess</td>\n",
       "      <td>{\"/m/06n90\": \"Science Fiction\", \"/m/0l67h\": \"Novella\", \"/m/014dfn\": \"Speculative fiction\", \"/m/0c082\": \"Utopian and dystopian fiction\", \"/m/06nbt\": \"Satire\", \"/m/02xlf\": \"Fiction\"}</td>\n",
       "      <td>Alex, a teenager living in near-future England, leads his gang on nightly orgies of opportunistic, random \"ultra-violence.\" Alex's friends (\"droogs\" in the novel's Anglo-Russian slang, Nadsat) are: Dim, a slow-witted bruiser who is the gang's muscle; Georgie, an ambitious second-in-command; and...</td>\n",
       "    </tr>\n",
       "    <tr>\n",
       "      <th>2</th>\n",
       "      <td>3</td>\n",
       "      <td>986</td>\n",
       "      <td>The Plague</td>\n",
       "      <td>Albert Camus</td>\n",
       "      <td>{\"/m/02m4t\": \"Existentialism\", \"/m/02xlf\": \"Fiction\", \"/m/0pym5\": \"Absurdist fiction\", \"/m/05hgj\": \"Novel\"}</td>\n",
       "      <td>The text of The Plague is divided into five parts. In the town of Oran, thousands of rats, initially unnoticed by the populace, begin to die in the streets. A hysteria develops soon afterward, causing the local newspapers to report the incident. Authorities responding to public pressure order t...</td>\n",
       "    </tr>\n",
       "    <tr>\n",
       "      <th>3</th>\n",
       "      <td>4</td>\n",
       "      <td>1756</td>\n",
       "      <td>An Enquiry Concerning Human Understanding</td>\n",
       "      <td>David Hume</td>\n",
       "      <td></td>\n",
       "      <td>The argument of the Enquiry proceeds by a series of incremental steps, separated into chapters which logically succeed one another. After expounding his epistemology, Hume explains how to apply his principles to specific topics. In the first section of the Enquiry, Hume provides a rough introdu...</td>\n",
       "    </tr>\n",
       "    <tr>\n",
       "      <th>4</th>\n",
       "      <td>5</td>\n",
       "      <td>2080</td>\n",
       "      <td>A Fire Upon the Deep</td>\n",
       "      <td>Vernor Vinge</td>\n",
       "      <td>{\"/m/03lrw\": \"Hard science fiction\", \"/m/06n90\": \"Science Fiction\", \"/m/014dfn\": \"Speculative fiction\", \"/m/01hmnh\": \"Fantasy\", \"/m/02xlf\": \"Fiction\"}</td>\n",
       "      <td>The novel posits that space around the Milky Way is divided into concentric layers called Zones, each being constrained by different laws of physics and each allowing for different degrees of biological and technological advancement. The innermost, the \"Unthinking Depths\", surrounds the galacti...</td>\n",
       "    </tr>\n",
       "  </tbody>\n",
       "</table>\n",
       "</div>"
      ],
      "text/plain": [
       "   Index    ID                                  BookTitle           Author  \\\n",
       "0      1   620                                Animal Farm    George Orwell   \n",
       "1      2   843                         A Clockwork Orange  Anthony Burgess   \n",
       "2      3   986                                 The Plague     Albert Camus   \n",
       "3      4  1756  An Enquiry Concerning Human Understanding       David Hume   \n",
       "4      5  2080                       A Fire Upon the Deep     Vernor Vinge   \n",
       "\n",
       "                                                                                                                                                                                  Genre  \\\n",
       "0                              {\"/m/016lj8\": \"Roman \\u00e0 clef\", \"/m/06nbt\": \"Satire\", \"/m/0dwly\": \"Children's literature\", \"/m/014dfn\": \"Speculative fiction\", \"/m/02xlf\": \"Fiction\"}   \n",
       "1  {\"/m/06n90\": \"Science Fiction\", \"/m/0l67h\": \"Novella\", \"/m/014dfn\": \"Speculative fiction\", \"/m/0c082\": \"Utopian and dystopian fiction\", \"/m/06nbt\": \"Satire\", \"/m/02xlf\": \"Fiction\"}   \n",
       "2                                                                           {\"/m/02m4t\": \"Existentialism\", \"/m/02xlf\": \"Fiction\", \"/m/0pym5\": \"Absurdist fiction\", \"/m/05hgj\": \"Novel\"}   \n",
       "3                                                                                                                                                                                         \n",
       "4                                {\"/m/03lrw\": \"Hard science fiction\", \"/m/06n90\": \"Science Fiction\", \"/m/014dfn\": \"Speculative fiction\", \"/m/01hmnh\": \"Fantasy\", \"/m/02xlf\": \"Fiction\"}   \n",
       "\n",
       "                                                                                                                                                                                                                                                                                                       Summary  \n",
       "0   Old Major, the old boar on the Manor Farm, calls the animals on the farm for a meeting, where he compares the humans to parasites and teaches the animals a revolutionary song, 'Beasts of England'. When Major dies, two young pigs, Snowball and Napoleon, assume command and turn his dream into a p...  \n",
       "1   Alex, a teenager living in near-future England, leads his gang on nightly orgies of opportunistic, random \"ultra-violence.\" Alex's friends (\"droogs\" in the novel's Anglo-Russian slang, Nadsat) are: Dim, a slow-witted bruiser who is the gang's muscle; Georgie, an ambitious second-in-command; and...  \n",
       "2   The text of The Plague is divided into five parts. In the town of Oran, thousands of rats, initially unnoticed by the populace, begin to die in the streets. A hysteria develops soon afterward, causing the local newspapers to report the incident. Authorities responding to public pressure order t...  \n",
       "3   The argument of the Enquiry proceeds by a series of incremental steps, separated into chapters which logically succeed one another. After expounding his epistemology, Hume explains how to apply his principles to specific topics. In the first section of the Enquiry, Hume provides a rough introdu...  \n",
       "4   The novel posits that space around the Milky Way is divided into concentric layers called Zones, each being constrained by different laws of physics and each allowing for different degrees of biological and technological advancement. The innermost, the \"Unthinking Depths\", surrounds the galacti...  "
      ]
     },
     "execution_count": 3,
     "metadata": {},
     "output_type": "execute_result"
    }
   ],
   "source": [
    "book_index = []\n",
    "book_id = []\n",
    "book_author = []\n",
    "book_name = []\n",
    "summary = []\n",
    "genre = []\n",
    "a = 1\n",
    "for i in tqdm(data):\n",
    "    book_index.append(a)\n",
    "    a = a+1\n",
    "    book_id.append(i[0])\n",
    "    book_name.append(i[2])\n",
    "    book_author.append(i[3])\n",
    "    genre.append(i[5])\n",
    "    summary.append(i[6])\n",
    "\n",
    "df = pd.DataFrame({'Index': book_index, 'ID': book_id, 'BookTitle': book_name, 'Author': book_author,\n",
    "                       'Genre': genre, 'Summary': summary})\n",
    "df.head()"
   ]
  },
  {
   "cell_type": "markdown",
   "id": "10be931b",
   "metadata": {},
   "source": [
    "### Checking with NULL values"
   ]
  },
  {
   "cell_type": "code",
   "execution_count": 4,
   "id": "bbecd489",
   "metadata": {},
   "outputs": [
    {
     "data": {
      "text/plain": [
       "Int64Index([    3,     7,    10,    11,    12,    13,    14,    16,    17,\n",
       "               18,\n",
       "            ...\n",
       "            16539, 16540, 16543, 16547, 16548, 16550, 16552, 16553, 16554,\n",
       "            16557],\n",
       "           dtype='int64', length=3718)"
      ]
     },
     "execution_count": 4,
     "metadata": {},
     "output_type": "execute_result"
    }
   ],
   "source": [
    "df[df['Genre'] == ''].index"
   ]
  },
  {
   "cell_type": "code",
   "execution_count": 5,
   "id": "4f0c4b00",
   "metadata": {},
   "outputs": [
    {
     "data": {
      "text/plain": [
       "3718"
      ]
     },
     "execution_count": 5,
     "metadata": {},
     "output_type": "execute_result"
    }
   ],
   "source": [
    "len(df[df['Genre'] == ''].index)"
   ]
  },
  {
   "cell_type": "code",
   "execution_count": 6,
   "id": "268c3a52",
   "metadata": {},
   "outputs": [
    {
     "data": {
      "text/plain": [
       "Int64Index([], dtype='int64')"
      ]
     },
     "execution_count": 6,
     "metadata": {},
     "output_type": "execute_result"
    }
   ],
   "source": [
    "df[df['Summary'] == ''].index"
   ]
  },
  {
   "cell_type": "markdown",
   "id": "68e82d32",
   "metadata": {},
   "source": [
    "## Checking null values and drop the empty "
   ]
  },
  {
   "cell_type": "code",
   "execution_count": 7,
   "id": "a4866c9a",
   "metadata": {},
   "outputs": [],
   "source": [
    "df = df.drop(df[df['Genre'] == ''].index)\n",
    "df = df.drop(df[df['Summary'] == ''].index)\n",
    "\n",
    "genres_cleaned = []\n",
    "for i in df['Genre']:\n",
    "    genres_cleaned.append(list(json.loads(i).values()))\n",
    "df['Genres'] = genres_cleaned\n"
   ]
  },
  {
   "cell_type": "code",
   "execution_count": 8,
   "id": "9a1a31c1",
   "metadata": {},
   "outputs": [
    {
     "data": {
      "text/html": [
       "<div>\n",
       "<style scoped>\n",
       "    .dataframe tbody tr th:only-of-type {\n",
       "        vertical-align: middle;\n",
       "    }\n",
       "\n",
       "    .dataframe tbody tr th {\n",
       "        vertical-align: top;\n",
       "    }\n",
       "\n",
       "    .dataframe thead th {\n",
       "        text-align: right;\n",
       "    }\n",
       "</style>\n",
       "<table border=\"1\" class=\"dataframe\">\n",
       "  <thead>\n",
       "    <tr style=\"text-align: right;\">\n",
       "      <th></th>\n",
       "      <th>Index</th>\n",
       "      <th>ID</th>\n",
       "      <th>BookTitle</th>\n",
       "      <th>Author</th>\n",
       "      <th>Genre</th>\n",
       "      <th>Summary</th>\n",
       "      <th>Genres</th>\n",
       "    </tr>\n",
       "  </thead>\n",
       "  <tbody>\n",
       "    <tr>\n",
       "      <th>0</th>\n",
       "      <td>1</td>\n",
       "      <td>620</td>\n",
       "      <td>Animal Farm</td>\n",
       "      <td>George Orwell</td>\n",
       "      <td>{\"/m/016lj8\": \"Roman \\u00e0 clef\", \"/m/06nbt\": \"Satire\", \"/m/0dwly\": \"Children's literature\", \"/m/014dfn\": \"Speculative fiction\", \"/m/02xlf\": \"Fiction\"}</td>\n",
       "      <td>Old Major, the old boar on the Manor Farm, calls the animals on the farm for a meeting, where he compares the humans to parasites and teaches the animals a revolutionary song, 'Beasts of England'. When Major dies, two young pigs, Snowball and Napoleon, assume command and turn his dream into a p...</td>\n",
       "      <td>[Roman à clef, Satire, Children's literature, Speculative fiction, Fiction]</td>\n",
       "    </tr>\n",
       "    <tr>\n",
       "      <th>1</th>\n",
       "      <td>2</td>\n",
       "      <td>843</td>\n",
       "      <td>A Clockwork Orange</td>\n",
       "      <td>Anthony Burgess</td>\n",
       "      <td>{\"/m/06n90\": \"Science Fiction\", \"/m/0l67h\": \"Novella\", \"/m/014dfn\": \"Speculative fiction\", \"/m/0c082\": \"Utopian and dystopian fiction\", \"/m/06nbt\": \"Satire\", \"/m/02xlf\": \"Fiction\"}</td>\n",
       "      <td>Alex, a teenager living in near-future England, leads his gang on nightly orgies of opportunistic, random \"ultra-violence.\" Alex's friends (\"droogs\" in the novel's Anglo-Russian slang, Nadsat) are: Dim, a slow-witted bruiser who is the gang's muscle; Georgie, an ambitious second-in-command; and...</td>\n",
       "      <td>[Science Fiction, Novella, Speculative fiction, Utopian and dystopian fiction, Satire, Fiction]</td>\n",
       "    </tr>\n",
       "  </tbody>\n",
       "</table>\n",
       "</div>"
      ],
      "text/plain": [
       "   Index   ID           BookTitle           Author  \\\n",
       "0      1  620         Animal Farm    George Orwell   \n",
       "1      2  843  A Clockwork Orange  Anthony Burgess   \n",
       "\n",
       "                                                                                                                                                                                  Genre  \\\n",
       "0                              {\"/m/016lj8\": \"Roman \\u00e0 clef\", \"/m/06nbt\": \"Satire\", \"/m/0dwly\": \"Children's literature\", \"/m/014dfn\": \"Speculative fiction\", \"/m/02xlf\": \"Fiction\"}   \n",
       "1  {\"/m/06n90\": \"Science Fiction\", \"/m/0l67h\": \"Novella\", \"/m/014dfn\": \"Speculative fiction\", \"/m/0c082\": \"Utopian and dystopian fiction\", \"/m/06nbt\": \"Satire\", \"/m/02xlf\": \"Fiction\"}   \n",
       "\n",
       "                                                                                                                                                                                                                                                                                                       Summary  \\\n",
       "0   Old Major, the old boar on the Manor Farm, calls the animals on the farm for a meeting, where he compares the humans to parasites and teaches the animals a revolutionary song, 'Beasts of England'. When Major dies, two young pigs, Snowball and Napoleon, assume command and turn his dream into a p...   \n",
       "1   Alex, a teenager living in near-future England, leads his gang on nightly orgies of opportunistic, random \"ultra-violence.\" Alex's friends (\"droogs\" in the novel's Anglo-Russian slang, Nadsat) are: Dim, a slow-witted bruiser who is the gang's muscle; Georgie, an ambitious second-in-command; and...   \n",
       "\n",
       "                                                                                            Genres  \n",
       "0                      [Roman à clef, Satire, Children's literature, Speculative fiction, Fiction]  \n",
       "1  [Science Fiction, Novella, Speculative fiction, Utopian and dystopian fiction, Satire, Fiction]  "
      ]
     },
     "execution_count": 8,
     "metadata": {},
     "output_type": "execute_result"
    }
   ],
   "source": [
    "df.head(2)"
   ]
  },
  {
   "cell_type": "markdown",
   "id": "53ac7461",
   "metadata": {},
   "source": [
    "## Summary Clean(Using Regular Expression)"
   ]
  },
  {
   "cell_type": "code",
   "execution_count": 9,
   "id": "71cdfaa5",
   "metadata": {},
   "outputs": [
    {
     "data": {
      "text/html": [
       "<div>\n",
       "<style scoped>\n",
       "    .dataframe tbody tr th:only-of-type {\n",
       "        vertical-align: middle;\n",
       "    }\n",
       "\n",
       "    .dataframe tbody tr th {\n",
       "        vertical-align: top;\n",
       "    }\n",
       "\n",
       "    .dataframe thead th {\n",
       "        text-align: right;\n",
       "    }\n",
       "</style>\n",
       "<table border=\"1\" class=\"dataframe\">\n",
       "  <thead>\n",
       "    <tr style=\"text-align: right;\">\n",
       "      <th></th>\n",
       "      <th>Index</th>\n",
       "      <th>ID</th>\n",
       "      <th>BookTitle</th>\n",
       "      <th>Author</th>\n",
       "      <th>Genre</th>\n",
       "      <th>Summary</th>\n",
       "      <th>Genres</th>\n",
       "      <th>clean_summary</th>\n",
       "    </tr>\n",
       "  </thead>\n",
       "  <tbody>\n",
       "    <tr>\n",
       "      <th>0</th>\n",
       "      <td>1</td>\n",
       "      <td>620</td>\n",
       "      <td>Animal Farm</td>\n",
       "      <td>George Orwell</td>\n",
       "      <td>{\"/m/016lj8\": \"Roman \\u00e0 clef\", \"/m/06nbt\": \"Satire\", \"/m/0dwly\": \"Children's literature\", \"/m/014dfn\": \"Speculative fiction\", \"/m/02xlf\": \"Fiction\"}</td>\n",
       "      <td>Old Major, the old boar on the Manor Farm, calls the animals on the farm for a meeting, where he compares the humans to parasites and teaches the animals a revolutionary song, 'Beasts of England'. When Major dies, two young pigs, Snowball and Napoleon, assume command and turn his dream into a p...</td>\n",
       "      <td>[Roman à clef, Satire, Children's literature, Speculative fiction, Fiction]</td>\n",
       "      <td>old major the old boar on the manor farm calls the animals on the farm for a meeting where he compares the humans to parasites and teaches the animals a revolutionary song beasts of england when major dies two young pigs snowball and napoleon assume command and turn his dream into a philosophy t...</td>\n",
       "    </tr>\n",
       "    <tr>\n",
       "      <th>1</th>\n",
       "      <td>2</td>\n",
       "      <td>843</td>\n",
       "      <td>A Clockwork Orange</td>\n",
       "      <td>Anthony Burgess</td>\n",
       "      <td>{\"/m/06n90\": \"Science Fiction\", \"/m/0l67h\": \"Novella\", \"/m/014dfn\": \"Speculative fiction\", \"/m/0c082\": \"Utopian and dystopian fiction\", \"/m/06nbt\": \"Satire\", \"/m/02xlf\": \"Fiction\"}</td>\n",
       "      <td>Alex, a teenager living in near-future England, leads his gang on nightly orgies of opportunistic, random \"ultra-violence.\" Alex's friends (\"droogs\" in the novel's Anglo-Russian slang, Nadsat) are: Dim, a slow-witted bruiser who is the gang's muscle; Georgie, an ambitious second-in-command; and...</td>\n",
       "      <td>[Science Fiction, Novella, Speculative fiction, Utopian and dystopian fiction, Satire, Fiction]</td>\n",
       "      <td>alex a teenager living in near future england leads his gang on nightly orgies of opportunistic random ultra violence alexs friends droogs in the novels anglo russian slang nadsat are dim a slow witted bruiser who is the gangs muscle georgie an ambitious second in command and pete who mostly pla...</td>\n",
       "    </tr>\n",
       "  </tbody>\n",
       "</table>\n",
       "</div>"
      ],
      "text/plain": [
       "   Index   ID           BookTitle           Author  \\\n",
       "0      1  620         Animal Farm    George Orwell   \n",
       "1      2  843  A Clockwork Orange  Anthony Burgess   \n",
       "\n",
       "                                                                                                                                                                                  Genre  \\\n",
       "0                              {\"/m/016lj8\": \"Roman \\u00e0 clef\", \"/m/06nbt\": \"Satire\", \"/m/0dwly\": \"Children's literature\", \"/m/014dfn\": \"Speculative fiction\", \"/m/02xlf\": \"Fiction\"}   \n",
       "1  {\"/m/06n90\": \"Science Fiction\", \"/m/0l67h\": \"Novella\", \"/m/014dfn\": \"Speculative fiction\", \"/m/0c082\": \"Utopian and dystopian fiction\", \"/m/06nbt\": \"Satire\", \"/m/02xlf\": \"Fiction\"}   \n",
       "\n",
       "                                                                                                                                                                                                                                                                                                       Summary  \\\n",
       "0   Old Major, the old boar on the Manor Farm, calls the animals on the farm for a meeting, where he compares the humans to parasites and teaches the animals a revolutionary song, 'Beasts of England'. When Major dies, two young pigs, Snowball and Napoleon, assume command and turn his dream into a p...   \n",
       "1   Alex, a teenager living in near-future England, leads his gang on nightly orgies of opportunistic, random \"ultra-violence.\" Alex's friends (\"droogs\" in the novel's Anglo-Russian slang, Nadsat) are: Dim, a slow-witted bruiser who is the gang's muscle; Georgie, an ambitious second-in-command; and...   \n",
       "\n",
       "                                                                                            Genres  \\\n",
       "0                      [Roman à clef, Satire, Children's literature, Speculative fiction, Fiction]   \n",
       "1  [Science Fiction, Novella, Speculative fiction, Utopian and dystopian fiction, Satire, Fiction]   \n",
       "\n",
       "                                                                                                                                                                                                                                                                                                 clean_summary  \n",
       "0  old major the old boar on the manor farm calls the animals on the farm for a meeting where he compares the humans to parasites and teaches the animals a revolutionary song beasts of england when major dies two young pigs snowball and napoleon assume command and turn his dream into a philosophy t...  \n",
       "1  alex a teenager living in near future england leads his gang on nightly orgies of opportunistic random ultra violence alexs friends droogs in the novels anglo russian slang nadsat are dim a slow witted bruiser who is the gangs muscle georgie an ambitious second in command and pete who mostly pla...  "
      ]
     },
     "execution_count": 9,
     "metadata": {},
     "output_type": "execute_result"
    }
   ],
   "source": [
    "def clean_summary(text):\n",
    "    text = re.sub(\"\\'\", \"\", text)\n",
    "    text = re.sub(\"[^a-zA-Z]\",\" \",text)\n",
    "    text = ' '.join(text.split())\n",
    "    text = text.lower()\n",
    "    return text\n",
    "\n",
    "df['clean_summary'] = df['Summary'].apply(lambda x: clean_summary(x))\n",
    "df.head(2)"
   ]
  },
  {
   "cell_type": "markdown",
   "id": "1c2f1cd1",
   "metadata": {},
   "source": [
    "## TextBlob --- NLP Library"
   ]
  },
  {
   "cell_type": "markdown",
   "id": "f737c809",
   "metadata": {},
   "source": [
    "### We take a polarity variable in TextBlob library and calculate sentimental numerical value of summary and polarity range is (-1 to 1)"
   ]
  },
  {
   "cell_type": "code",
   "execution_count": 10,
   "id": "1e2453b6",
   "metadata": {},
   "outputs": [
    {
     "data": {
      "text/html": [
       "<div>\n",
       "<style scoped>\n",
       "    .dataframe tbody tr th:only-of-type {\n",
       "        vertical-align: middle;\n",
       "    }\n",
       "\n",
       "    .dataframe tbody tr th {\n",
       "        vertical-align: top;\n",
       "    }\n",
       "\n",
       "    .dataframe thead th {\n",
       "        text-align: right;\n",
       "    }\n",
       "</style>\n",
       "<table border=\"1\" class=\"dataframe\">\n",
       "  <thead>\n",
       "    <tr style=\"text-align: right;\">\n",
       "      <th></th>\n",
       "      <th>Index</th>\n",
       "      <th>ID</th>\n",
       "      <th>BookTitle</th>\n",
       "      <th>Author</th>\n",
       "      <th>Genre</th>\n",
       "      <th>Summary</th>\n",
       "      <th>Genres</th>\n",
       "      <th>clean_summary</th>\n",
       "      <th>emotion</th>\n",
       "    </tr>\n",
       "  </thead>\n",
       "  <tbody>\n",
       "    <tr>\n",
       "      <th>0</th>\n",
       "      <td>1</td>\n",
       "      <td>620</td>\n",
       "      <td>Animal Farm</td>\n",
       "      <td>George Orwell</td>\n",
       "      <td>{\"/m/016lj8\": \"Roman \\u00e0 clef\", \"/m/06nbt\": \"Satire\", \"/m/0dwly\": \"Children's literature\", \"/m/014dfn\": \"Speculative fiction\", \"/m/02xlf\": \"Fiction\"}</td>\n",
       "      <td>Old Major, the old boar on the Manor Farm, calls the animals on the farm for a meeting, where he compares the humans to parasites and teaches the animals a revolutionary song, 'Beasts of England'. When Major dies, two young pigs, Snowball and Napoleon, assume command and turn his dream into a p...</td>\n",
       "      <td>[Roman à clef, Satire, Children's literature, Speculative fiction, Fiction]</td>\n",
       "      <td>old major the old boar on the manor farm calls the animals on the farm for a meeting where he compares the humans to parasites and teaches the animals a revolutionary song beasts of england when major dies two young pigs snowball and napoleon assume command and turn his dream into a philosophy t...</td>\n",
       "      <td>Happy</td>\n",
       "    </tr>\n",
       "    <tr>\n",
       "      <th>1</th>\n",
       "      <td>2</td>\n",
       "      <td>843</td>\n",
       "      <td>A Clockwork Orange</td>\n",
       "      <td>Anthony Burgess</td>\n",
       "      <td>{\"/m/06n90\": \"Science Fiction\", \"/m/0l67h\": \"Novella\", \"/m/014dfn\": \"Speculative fiction\", \"/m/0c082\": \"Utopian and dystopian fiction\", \"/m/06nbt\": \"Satire\", \"/m/02xlf\": \"Fiction\"}</td>\n",
       "      <td>Alex, a teenager living in near-future England, leads his gang on nightly orgies of opportunistic, random \"ultra-violence.\" Alex's friends (\"droogs\" in the novel's Anglo-Russian slang, Nadsat) are: Dim, a slow-witted bruiser who is the gang's muscle; Georgie, an ambitious second-in-command; and...</td>\n",
       "      <td>[Science Fiction, Novella, Speculative fiction, Utopian and dystopian fiction, Satire, Fiction]</td>\n",
       "      <td>alex a teenager living in near future england leads his gang on nightly orgies of opportunistic random ultra violence alexs friends droogs in the novels anglo russian slang nadsat are dim a slow witted bruiser who is the gangs muscle georgie an ambitious second in command and pete who mostly pla...</td>\n",
       "      <td>Neutral</td>\n",
       "    </tr>\n",
       "  </tbody>\n",
       "</table>\n",
       "</div>"
      ],
      "text/plain": [
       "   Index   ID           BookTitle           Author  \\\n",
       "0      1  620         Animal Farm    George Orwell   \n",
       "1      2  843  A Clockwork Orange  Anthony Burgess   \n",
       "\n",
       "                                                                                                                                                                                  Genre  \\\n",
       "0                              {\"/m/016lj8\": \"Roman \\u00e0 clef\", \"/m/06nbt\": \"Satire\", \"/m/0dwly\": \"Children's literature\", \"/m/014dfn\": \"Speculative fiction\", \"/m/02xlf\": \"Fiction\"}   \n",
       "1  {\"/m/06n90\": \"Science Fiction\", \"/m/0l67h\": \"Novella\", \"/m/014dfn\": \"Speculative fiction\", \"/m/0c082\": \"Utopian and dystopian fiction\", \"/m/06nbt\": \"Satire\", \"/m/02xlf\": \"Fiction\"}   \n",
       "\n",
       "                                                                                                                                                                                                                                                                                                       Summary  \\\n",
       "0   Old Major, the old boar on the Manor Farm, calls the animals on the farm for a meeting, where he compares the humans to parasites and teaches the animals a revolutionary song, 'Beasts of England'. When Major dies, two young pigs, Snowball and Napoleon, assume command and turn his dream into a p...   \n",
       "1   Alex, a teenager living in near-future England, leads his gang on nightly orgies of opportunistic, random \"ultra-violence.\" Alex's friends (\"droogs\" in the novel's Anglo-Russian slang, Nadsat) are: Dim, a slow-witted bruiser who is the gang's muscle; Georgie, an ambitious second-in-command; and...   \n",
       "\n",
       "                                                                                            Genres  \\\n",
       "0                      [Roman à clef, Satire, Children's literature, Speculative fiction, Fiction]   \n",
       "1  [Science Fiction, Novella, Speculative fiction, Utopian and dystopian fiction, Satire, Fiction]   \n",
       "\n",
       "                                                                                                                                                                                                                                                                                                 clean_summary  \\\n",
       "0  old major the old boar on the manor farm calls the animals on the farm for a meeting where he compares the humans to parasites and teaches the animals a revolutionary song beasts of england when major dies two young pigs snowball and napoleon assume command and turn his dream into a philosophy t...   \n",
       "1  alex a teenager living in near future england leads his gang on nightly orgies of opportunistic random ultra violence alexs friends droogs in the novels anglo russian slang nadsat are dim a slow witted bruiser who is the gangs muscle georgie an ambitious second in command and pete who mostly pla...   \n",
       "\n",
       "   emotion  \n",
       "0    Happy  \n",
       "1  Neutral  "
      ]
     },
     "execution_count": 10,
     "metadata": {},
     "output_type": "execute_result"
    }
   ],
   "source": [
    "def get_emotion(text):\n",
    "    analysis = TextBlob(text)\n",
    "    polarity = analysis.sentiment.polarity\n",
    "    if polarity > 0.3:\n",
    "        return 'Excited'\n",
    "    elif polarity > 0.1 and polarity <= 0.3:\n",
    "        return 'Happy'\n",
    "    elif polarity < -0.3:\n",
    "        return 'Angry'\n",
    "    elif polarity >= -0.3 and polarity < -0.1:\n",
    "        return 'Sad'\n",
    "    elif polarity >= -0.1 and polarity < 0.1:\n",
    "        return 'Neutral'\n",
    "    elif polarity >= 0.1 and polarity <= 0.3:\n",
    "        return 'Content'\n",
    "    elif polarity > 0.3 and polarity <= 0.5:\n",
    "        return 'Enthusiastic'\n",
    "    elif polarity > 0.5:\n",
    "        return 'Surprised'\n",
    "    elif polarity < -0.3 and polarity >= -0.5:\n",
    "        return 'Disappointed'\n",
    "    elif polarity < -0.5:\n",
    "        return 'Frustrated'\n",
    "    elif polarity >= 0.3 and polarity <= 0.5:\n",
    "        return 'Proud'\n",
    "    elif polarity < -0.1 and polarity >= -0.3:\n",
    "        return 'Jealous'\n",
    "    elif polarity >= 0.1 and polarity <= 0.3:\n",
    "        return 'Hopeful'\n",
    "    elif polarity < -0.5 and polarity >= -0.7:\n",
    "        return 'Worried'\n",
    "    elif polarity < -0.7:\n",
    "        return 'Insecure'\n",
    "    elif polarity > 0.5 and polarity <= 0.7:\n",
    "        return 'Grateful'\n",
    "    elif polarity > 0.7:\n",
    "        return 'Calm'\n",
    "    elif polarity < -0.7:\n",
    "        return 'Lonely'\n",
    "    elif polarity < 0:\n",
    "        return 'Nervous'\n",
    "    elif polarity > 0:\n",
    "        return 'Excited'\n",
    "\n",
    "\n",
    "df['emotion'] = df['clean_summary'].apply(lambda x: get_emotion(x))\n",
    "df.head(2)\n"
   ]
  },
  {
   "cell_type": "markdown",
   "id": "96c90e13",
   "metadata": {},
   "source": [
    "### In above we calculate the emotion of all summaries"
   ]
  },
  {
   "cell_type": "code",
   "execution_count": 11,
   "id": "04c5dad4",
   "metadata": {},
   "outputs": [
    {
     "data": {
      "text/plain": [
       "12841"
      ]
     },
     "execution_count": 11,
     "metadata": {},
     "output_type": "execute_result"
    }
   ],
   "source": [
    "len(df)"
   ]
  },
  {
   "cell_type": "markdown",
   "id": "dc3feb44",
   "metadata": {},
   "source": [
    "### Length of some Emotions"
   ]
  },
  {
   "cell_type": "code",
   "execution_count": 12,
   "id": "6135bab4",
   "metadata": {},
   "outputs": [
    {
     "name": "stdout",
     "output_type": "stream",
     "text": [
      "8732\n",
      "3103\n",
      "669\n",
      "223\n"
     ]
    }
   ],
   "source": [
    "print(len(df[df['emotion']=='Neutral']))\n",
    "print(len(df[df['emotion']=='Happy']))\n",
    "print(len(df[df['emotion']=='Sad']))\n",
    "print(len(df[df['emotion']=='Excited']))"
   ]
  },
  {
   "cell_type": "markdown",
   "id": "6ab67bda",
   "metadata": {},
   "source": [
    "### Again we using a same library to extract the Cleaned Genre<br> <br>Reason : There are lot of unwanted contents\n"
   ]
  },
  {
   "cell_type": "code",
   "execution_count": 13,
   "id": "de03f662",
   "metadata": {},
   "outputs": [],
   "source": [
    "from textblob import TextBlob\n",
    "\n",
    "def get_genre(genres):\n",
    "    blob = TextBlob(' '.join(genres).lower())\n",
    "    horror = {\"horror\", \"terror\", \"fear\", \"suspense\", \"supernatural\"}\n",
    "    fantasy = {\"fantasy\", \"magic\", \"mythical\", \"legendary\", \"enchanted\"}\n",
    "    sci_fi = {\"science fiction\", \"sci-fi\", \"space\"}\n",
    "    romance = {\"romance\", \"love\", \"heartbreak\", \"passion\"}\n",
    "    mystery = {\"mystery\", \"detective\", \"crime\", \"sleuth\"}\n",
    "    thriller = {\"thriller\", \"suspense\", \"action\"}\n",
    "    hist_fic = {\"historical fiction\", \"historical\", \"period drama\"}\n",
    "    biography = {\"biography\", \"memoir\", \"autobiography\"}\n",
    "    self_help = {\"self-help\", \"self improvement\", \"personal growth\"}\n",
    "    business = {\"business\", \"finance\", \"economics\"}\n",
    "    travel = {\"travel\", \"adventure\", \"exploration\"}\n",
    "    cookbook = {\"cookbook\", \"cooking\", \"recipes\"}\n",
    "    poetry = {\"poetry\", \"verse\", \"rhyme\"}\n",
    "    drama = {\"drama\", \"play\", \"theatre\"}\n",
    "    humor = {\"humor\", \"comedy\", \"funny\"}\n",
    "    children = {\"children's literature\", \"kids\", \"juvenile\"}\n",
    "    ya = {\"young adult literature\", \"ya\", \"teen\"}\n",
    "    graphic = {\"graphic novels\", \"comics\", \"sequential art\"}\n",
    "    psychology = {\"psychology\", \"mind\", \"mental health\", \"therapy\", \"counseling\"}\n",
    "    philosophy = {\"philosophy\", \"ethics\", \"morality\", \"metaphysics\", \"logic\"}\n",
    "    science = {\"science\", \"scientific\", \"biology\", \"chemistry\", \"physics\"}\n",
    "    excited = {\"excited\", \"thrilled\", \"elated\", \"eager\"}\n",
    "    happy = {\"happy\", \"joyful\", \"pleased\", \"content\"}\n",
    "    angry = {\"angry\", \"outraged\", \"furious\", \"irritated\"}\n",
    "    sad = {\"sad\", \"heartbroken\", \"miserable\", \"depressed\"}\n",
    "    neutral = {\"neutral\", \"indifferent\", \"objective\", \"unbiased\"}\n",
    "    content = {\"content\", \"satisfied\", \"grateful\", \"thankful\"}\n",
    "    enthusiastic = {\"enthusiastic\", \"passionate\", \"zealous\", \"fervent\"}\n",
    "    surprised = {\"surprised\", \"shocked\", \"amazed\", \"astounded\"}\n",
    "    disappointed = {\"disappointed\", \"let down\", \"unhappy\", \"dissatisfied\"}\n",
    "    frustrated = {\"frustrated\", \"exasperated\", \"annoyed\", \"irritated\"}\n",
    "    proud = {\"proud\", \"accomplished\", \"confident\", \"self-assured\"}\n",
    "    jealous = {\"jealous\", \"envious\", \"covetous\", \"possessive\"}\n",
    "    hopeful = {\"hopeful\", \"optimistic\", \"positive\", \"confident\"}\n",
    "    worried = {\"worried\", \"anxious\", \"concerned\", \"uneasy\"}\n",
    "    insecure = {\"insecure\", \"uncertain\", \"self-doubting\", \"unconfident\"}\n",
    "    grateful = {\"grateful\", \"thankful\", \"appreciative\", \"indebted\"}\n",
    "    calm = {\"calm\", \"relaxed\", \"serene\", \"placid\"}\n",
    "    lonely = {\"lonely\", \"isolated\", \"alone\", \"desolate\"}\n",
    "    nervous = {\"nervous\", \"apprehensive\", \"fearful\", \"timid\"}\n",
    "\n",
    "\n",
    "    genre_set = set()\n",
    "\n",
    "    for genre in genres:\n",
    "        if genre.lower() in horror:\n",
    "            genre_set.add(\"Horror\")\n",
    "        elif genre.lower() in fantasy:\n",
    "            genre_set.add(\"Fantasy\")\n",
    "        elif genre.lower() in sci_fi:\n",
    "            genre_set.add(\"Science Fiction\")\n",
    "        elif genre.lower() in romance:\n",
    "            genre_set.add(\"Romance\")\n",
    "        elif genre.lower() in mystery:\n",
    "            genre_set.add(\"Mystery\")\n",
    "        elif genre.lower() in thriller:\n",
    "            genre_set.add(\"Thriller\")\n",
    "        elif genre.lower() in hist_fic:\n",
    "            genre_set.add(\"Historical Fiction\")\n",
    "        elif genre.lower() in biography:\n",
    "            genre_set.add(\"Biography\")\n",
    "        elif genre.lower() in self_help:\n",
    "            genre_set.add(\"Self-help\")\n",
    "        elif genre.lower() in business:\n",
    "            genre_set.add(\"Business\")\n",
    "        elif genre.lower() in travel:\n",
    "            genre_set.add(\"Travel\")\n",
    "        elif genre.lower() in cookbook:\n",
    "            genre_set.add(\"Cookbook\")\n",
    "        elif genre.lower() in poetry:\n",
    "            genre_set.add(\"Poetry\")\n",
    "        elif genre.lower() in drama:\n",
    "            genre_set.add(\"Drama\")\n",
    "        elif genre.lower() in humor:\n",
    "            genre_set.add(\"Humor\")\n",
    "        elif genre.lower() in children:\n",
    "            genre_set.add(\"Children's literature\")\n",
    "        elif genre.lower() in ya:\n",
    "            genre_set.add(\"Young adult literature\")\n",
    "        elif genre.lower() in graphic:\n",
    "            genre_set.add(\"Graphic novels and comics\")\n",
    "        elif genre.lower() in psychology:\n",
    "            genre_set.add(\"Psychology\")\n",
    "        elif genre.lower() in philosophy:\n",
    "            genre_set.add(\"Philosophy\")\n",
    "        elif genre.lower() in science:\n",
    "            genre_set.add(\"Science\")\n",
    "        elif genre.lower() in happy:\n",
    "            genre_set.add(\"Happy\")\n",
    "        elif genre.lower() in excited:\n",
    "            genre_set.add(\"Excited\")\n",
    "        elif genre.lower() in happy:\n",
    "            genre_set.add(\"Happy\")\n",
    "        elif genre.lower() in angry:\n",
    "            genre_set.add(\"Angry\")\n",
    "        elif genre.lower() in sad:\n",
    "            genre_set.add(\"Sad\")\n",
    "        elif genre.lower() in neutral:\n",
    "            genre_set.add(\"Neutral\")\n",
    "        elif genre.lower() in content:\n",
    "            genre_set.add(\"Content\")\n",
    "        elif genre.lower() in enthusiastic:\n",
    "            genre_set.add(\"Enthusiastic\")\n",
    "        elif genre.lower() in surprised:\n",
    "            genre_set.add(\"Surprised\")\n",
    "        elif genre.lower() in disappointed:\n",
    "            genre_set.add(\"Disappointed\")\n",
    "        elif genre.lower() in frustrated:\n",
    "            genre_set.add(\"Frustrated\")\n",
    "        elif genre.lower() in proud:\n",
    "            genre_set.add(\"Proud\")\n",
    "        elif genre.lower() in jealous:\n",
    "            genre_set.add(\"Jealous\")\n",
    "        elif genre.lower() in hopeful:\n",
    "            genre_set.add(\"Hopeful\")\n",
    "        elif genre.lower() in worried:\n",
    "            genre_set.add(\"Worried\")\n",
    "        elif genre.lower() in insecure:\n",
    "            genre_set.add(\"Insecure\")\n",
    "        elif genre.lower() in grateful:\n",
    "            genre_set.add(\"Grateful\")\n",
    "        elif genre.lower() in calm:\n",
    "            genre_set.add(\"Calm\")\n",
    "        elif genre.lower() in lonely:\n",
    "            genre_set.add(\"Lonely\")\n",
    "        elif genre.lower() in nervous:\n",
    "            genre_set.add(\"Nervous\")\n",
    "        else:\n",
    "            genre_set.add(\"Unknown\")\n",
    "\n",
    "\n",
    "\n",
    "\n",
    "\n",
    "    return genre_set\n"
   ]
  },
  {
   "cell_type": "code",
   "execution_count": 14,
   "id": "44c93441",
   "metadata": {},
   "outputs": [],
   "source": [
    "df.drop('Genre', axis=1, inplace=True)\n",
    "df.drop('Author', axis=1, inplace=True)"
   ]
  },
  {
   "cell_type": "markdown",
   "id": "27bbd4d8",
   "metadata": {},
   "source": [
    "## Cleaned Genre"
   ]
  },
  {
   "cell_type": "code",
   "execution_count": 15,
   "id": "63b290b9",
   "metadata": {},
   "outputs": [
    {
     "data": {
      "text/html": [
       "<div>\n",
       "<style scoped>\n",
       "    .dataframe tbody tr th:only-of-type {\n",
       "        vertical-align: middle;\n",
       "    }\n",
       "\n",
       "    .dataframe tbody tr th {\n",
       "        vertical-align: top;\n",
       "    }\n",
       "\n",
       "    .dataframe thead th {\n",
       "        text-align: right;\n",
       "    }\n",
       "</style>\n",
       "<table border=\"1\" class=\"dataframe\">\n",
       "  <thead>\n",
       "    <tr style=\"text-align: right;\">\n",
       "      <th></th>\n",
       "      <th>Index</th>\n",
       "      <th>ID</th>\n",
       "      <th>BookTitle</th>\n",
       "      <th>Summary</th>\n",
       "      <th>Genres</th>\n",
       "      <th>clean_summary</th>\n",
       "      <th>emotion</th>\n",
       "      <th>Cleaned_Genre</th>\n",
       "    </tr>\n",
       "  </thead>\n",
       "  <tbody>\n",
       "    <tr>\n",
       "      <th>0</th>\n",
       "      <td>1</td>\n",
       "      <td>620</td>\n",
       "      <td>Animal Farm</td>\n",
       "      <td>Old Major, the old boar on the Manor Farm, calls the animals on the farm for a meeting, where he compares the humans to parasites and teaches the animals a revolutionary song, 'Beasts of England'. When Major dies, two young pigs, Snowball and Napoleon, assume command and turn his dream into a p...</td>\n",
       "      <td>[Roman à clef, Satire, Children's literature, Speculative fiction, Fiction]</td>\n",
       "      <td>old major the old boar on the manor farm calls the animals on the farm for a meeting where he compares the humans to parasites and teaches the animals a revolutionary song beasts of england when major dies two young pigs snowball and napoleon assume command and turn his dream into a philosophy t...</td>\n",
       "      <td>Happy</td>\n",
       "      <td>{Children's literature, Unknown}</td>\n",
       "    </tr>\n",
       "    <tr>\n",
       "      <th>1</th>\n",
       "      <td>2</td>\n",
       "      <td>843</td>\n",
       "      <td>A Clockwork Orange</td>\n",
       "      <td>Alex, a teenager living in near-future England, leads his gang on nightly orgies of opportunistic, random \"ultra-violence.\" Alex's friends (\"droogs\" in the novel's Anglo-Russian slang, Nadsat) are: Dim, a slow-witted bruiser who is the gang's muscle; Georgie, an ambitious second-in-command; and...</td>\n",
       "      <td>[Science Fiction, Novella, Speculative fiction, Utopian and dystopian fiction, Satire, Fiction]</td>\n",
       "      <td>alex a teenager living in near future england leads his gang on nightly orgies of opportunistic random ultra violence alexs friends droogs in the novels anglo russian slang nadsat are dim a slow witted bruiser who is the gangs muscle georgie an ambitious second in command and pete who mostly pla...</td>\n",
       "      <td>Neutral</td>\n",
       "      <td>{Science Fiction, Unknown}</td>\n",
       "    </tr>\n",
       "  </tbody>\n",
       "</table>\n",
       "</div>"
      ],
      "text/plain": [
       "   Index   ID           BookTitle  \\\n",
       "0      1  620         Animal Farm   \n",
       "1      2  843  A Clockwork Orange   \n",
       "\n",
       "                                                                                                                                                                                                                                                                                                       Summary  \\\n",
       "0   Old Major, the old boar on the Manor Farm, calls the animals on the farm for a meeting, where he compares the humans to parasites and teaches the animals a revolutionary song, 'Beasts of England'. When Major dies, two young pigs, Snowball and Napoleon, assume command and turn his dream into a p...   \n",
       "1   Alex, a teenager living in near-future England, leads his gang on nightly orgies of opportunistic, random \"ultra-violence.\" Alex's friends (\"droogs\" in the novel's Anglo-Russian slang, Nadsat) are: Dim, a slow-witted bruiser who is the gang's muscle; Georgie, an ambitious second-in-command; and...   \n",
       "\n",
       "                                                                                            Genres  \\\n",
       "0                      [Roman à clef, Satire, Children's literature, Speculative fiction, Fiction]   \n",
       "1  [Science Fiction, Novella, Speculative fiction, Utopian and dystopian fiction, Satire, Fiction]   \n",
       "\n",
       "                                                                                                                                                                                                                                                                                                 clean_summary  \\\n",
       "0  old major the old boar on the manor farm calls the animals on the farm for a meeting where he compares the humans to parasites and teaches the animals a revolutionary song beasts of england when major dies two young pigs snowball and napoleon assume command and turn his dream into a philosophy t...   \n",
       "1  alex a teenager living in near future england leads his gang on nightly orgies of opportunistic random ultra violence alexs friends droogs in the novels anglo russian slang nadsat are dim a slow witted bruiser who is the gangs muscle georgie an ambitious second in command and pete who mostly pla...   \n",
       "\n",
       "   emotion                     Cleaned_Genre  \n",
       "0    Happy  {Children's literature, Unknown}  \n",
       "1  Neutral        {Science Fiction, Unknown}  "
      ]
     },
     "execution_count": 15,
     "metadata": {},
     "output_type": "execute_result"
    }
   ],
   "source": [
    "df['Cleaned_Genre'] = df['Genres'].apply(lambda x: get_genre(x))\n",
    "\n",
    "\n",
    "df.to_csv(\"../BOOK_DATASET/oooo.csv\")\n",
    "df.head(2)"
   ]
  },
  {
   "cell_type": "markdown",
   "id": "d7ffd046",
   "metadata": {},
   "source": [
    "### Check the cased if it work"
   ]
  },
  {
   "cell_type": "code",
   "execution_count": 16,
   "id": "480da6ad",
   "metadata": {},
   "outputs": [
    {
     "name": "stdout",
     "output_type": "stream",
     "text": [
      "{'Science Fiction'}\n"
     ]
    }
   ],
   "source": [
    "genre = get_genre([\"sci-fi\"])\n",
    "print(genre)"
   ]
  },
  {
   "cell_type": "code",
   "execution_count": 17,
   "id": "1a44d8ab",
   "metadata": {},
   "outputs": [
    {
     "name": "stdout",
     "output_type": "stream",
     "text": [
      "26                     Dracula\n",
      "37                 Gaudy Night\n",
      "82                 The Shining\n",
      "88    The Pit and the Pendulum\n",
      "89    The Hunt for Red October\n",
      "Name: BookTitle, dtype: object\n"
     ]
    }
   ],
   "source": [
    "genre = get_genre([\"horror\"])\n",
    "books = df[df['Cleaned_Genre'].apply(lambda x: genre.intersection(x)).astype(bool)]['BookTitle']\n",
    "print(books.head())\n",
    "\n"
   ]
  },
  {
   "cell_type": "markdown",
   "id": "9625785a",
   "metadata": {},
   "source": [
    "### We need to recommend the books based on Ratings ,So we read a another csv which contains Ratings <br><br>So, it will recommend the books based on rating"
   ]
  },
  {
   "cell_type": "code",
   "execution_count": 18,
   "id": "eec637f1",
   "metadata": {},
   "outputs": [
    {
     "data": {
      "text/html": [
       "<div>\n",
       "<style scoped>\n",
       "    .dataframe tbody tr th:only-of-type {\n",
       "        vertical-align: middle;\n",
       "    }\n",
       "\n",
       "    .dataframe tbody tr th {\n",
       "        vertical-align: top;\n",
       "    }\n",
       "\n",
       "    .dataframe thead th {\n",
       "        text-align: right;\n",
       "    }\n",
       "</style>\n",
       "<table border=\"1\" class=\"dataframe\">\n",
       "  <thead>\n",
       "    <tr style=\"text-align: right;\">\n",
       "      <th></th>\n",
       "      <th>Unnamed: 0</th>\n",
       "      <th>user_id</th>\n",
       "      <th>location</th>\n",
       "      <th>age</th>\n",
       "      <th>isbn</th>\n",
       "      <th>rating</th>\n",
       "      <th>book_title</th>\n",
       "      <th>book_author</th>\n",
       "      <th>year_of_publication</th>\n",
       "      <th>publisher</th>\n",
       "      <th>img_s</th>\n",
       "      <th>img_m</th>\n",
       "      <th>img_l</th>\n",
       "      <th>Summary</th>\n",
       "      <th>Language</th>\n",
       "      <th>Category</th>\n",
       "      <th>city</th>\n",
       "      <th>state</th>\n",
       "      <th>country</th>\n",
       "    </tr>\n",
       "  </thead>\n",
       "  <tbody>\n",
       "    <tr>\n",
       "      <th>0</th>\n",
       "      <td>0</td>\n",
       "      <td>2</td>\n",
       "      <td>stockton, california, usa</td>\n",
       "      <td>18.0000</td>\n",
       "      <td>0195153448</td>\n",
       "      <td>0</td>\n",
       "      <td>Classical Mythology</td>\n",
       "      <td>Mark P. O. Morford</td>\n",
       "      <td>2002.0</td>\n",
       "      <td>Oxford University Press</td>\n",
       "      <td>http://images.amazon.com/images/P/0195153448.01.THUMBZZZ.jpg</td>\n",
       "      <td>http://images.amazon.com/images/P/0195153448.01.MZZZZZZZ.jpg</td>\n",
       "      <td>http://images.amazon.com/images/P/0195153448.01.LZZZZZZZ.jpg</td>\n",
       "      <td>Provides an introduction to classical myths placing the addressed\\ntopics within their historical context, discussion of archaeological\\nevidence as support for mythical events, and how these themes have\\nbeen portrayed in literature, art, ...</td>\n",
       "      <td>en</td>\n",
       "      <td>['Social Science']</td>\n",
       "      <td>stockton</td>\n",
       "      <td>california</td>\n",
       "      <td>usa</td>\n",
       "    </tr>\n",
       "    <tr>\n",
       "      <th>1</th>\n",
       "      <td>1</td>\n",
       "      <td>8</td>\n",
       "      <td>timmins, ontario, canada</td>\n",
       "      <td>34.7439</td>\n",
       "      <td>0002005018</td>\n",
       "      <td>5</td>\n",
       "      <td>Clara Callan</td>\n",
       "      <td>Richard Bruce Wright</td>\n",
       "      <td>2001.0</td>\n",
       "      <td>HarperFlamingo Canada</td>\n",
       "      <td>http://images.amazon.com/images/P/0002005018.01.THUMBZZZ.jpg</td>\n",
       "      <td>http://images.amazon.com/images/P/0002005018.01.MZZZZZZZ.jpg</td>\n",
       "      <td>http://images.amazon.com/images/P/0002005018.01.LZZZZZZZ.jpg</td>\n",
       "      <td>In a small town in Canada, Clara Callan reluctantly takes leave of her\\nsister, Nora, who is bound for New York.</td>\n",
       "      <td>en</td>\n",
       "      <td>['Actresses']</td>\n",
       "      <td>timmins</td>\n",
       "      <td>ontario</td>\n",
       "      <td>canada</td>\n",
       "    </tr>\n",
       "  </tbody>\n",
       "</table>\n",
       "</div>"
      ],
      "text/plain": [
       "   Unnamed: 0  user_id                   location      age        isbn  \\\n",
       "0           0        2  stockton, california, usa  18.0000  0195153448   \n",
       "1           1        8   timmins, ontario, canada  34.7439  0002005018   \n",
       "\n",
       "   rating           book_title           book_author  year_of_publication  \\\n",
       "0       0  Classical Mythology    Mark P. O. Morford               2002.0   \n",
       "1       5         Clara Callan  Richard Bruce Wright               2001.0   \n",
       "\n",
       "                 publisher  \\\n",
       "0  Oxford University Press   \n",
       "1    HarperFlamingo Canada   \n",
       "\n",
       "                                                          img_s  \\\n",
       "0  http://images.amazon.com/images/P/0195153448.01.THUMBZZZ.jpg   \n",
       "1  http://images.amazon.com/images/P/0002005018.01.THUMBZZZ.jpg   \n",
       "\n",
       "                                                          img_m  \\\n",
       "0  http://images.amazon.com/images/P/0195153448.01.MZZZZZZZ.jpg   \n",
       "1  http://images.amazon.com/images/P/0002005018.01.MZZZZZZZ.jpg   \n",
       "\n",
       "                                                          img_l  \\\n",
       "0  http://images.amazon.com/images/P/0195153448.01.LZZZZZZZ.jpg   \n",
       "1  http://images.amazon.com/images/P/0002005018.01.LZZZZZZZ.jpg   \n",
       "\n",
       "                                                                                                                                                                                                                                               Summary  \\\n",
       "0  Provides an introduction to classical myths placing the addressed\\ntopics within their historical context, discussion of archaeological\\nevidence as support for mythical events, and how these themes have\\nbeen portrayed in literature, art, ...   \n",
       "1                                                                                                                                     In a small town in Canada, Clara Callan reluctantly takes leave of her\\nsister, Nora, who is bound for New York.   \n",
       "\n",
       "  Language            Category      city       state country  \n",
       "0       en  ['Social Science']  stockton  california     usa  \n",
       "1       en       ['Actresses']   timmins     ontario  canada  "
      ]
     },
     "execution_count": 18,
     "metadata": {},
     "output_type": "execute_result"
    }
   ],
   "source": [
    "df2 = pd.read_csv(\"../BOOK_DATASET/Preprocessed_data.csv\")\n",
    "\n",
    "df2.head(2)"
   ]
  },
  {
   "cell_type": "markdown",
   "id": "559746e2",
   "metadata": {},
   "source": [
    "### So we Filter the books that includes in 1st Dataset and arrange the rating to descending order"
   ]
  },
  {
   "cell_type": "markdown",
   "id": "ff0cf52a",
   "metadata": {},
   "source": [
    "### Get a input form user"
   ]
  },
  {
   "cell_type": "code",
   "execution_count": 19,
   "id": "55a587c4",
   "metadata": {},
   "outputs": [],
   "source": [
    "keywords = {\n",
    "    \"horror\": {\"horror\", \"terror\", \"fear\", \"suspense\", \"supernatural\"},\n",
    "    \"fantasy\": {\"fantasy\", \"magic\", \"mythical\", \"legendary\", \"enchanted\"},\n",
    "    \"sci_fi\": {\"science fiction\", \"sci-fi\", \"space\"},\n",
    "    \"romance\": {\"romance\", \"love\", \"heartbreak\", \"passion\"},\n",
    "    \"mystery\": {\"mystery\", \"detective\", \"crime\", \"sleuth\"},\n",
    "    \"thriller\": {\"thriller\", \"suspense\", \"action\"},\n",
    "    \"hist_fic\": {\"historical fiction\", \"historical\", \"period drama\"},\n",
    "    \"biography\": {\"biography\", \"memoir\", \"autobiography\"},\n",
    "    \"self_help\": {\"self-help\", \"self improvement\", \"personal growth\"},\n",
    "    \"business\": {\"business\", \"finance\", \"economics\"},\n",
    "    \"travel\": {\"travel\", \"adventure\", \"exploration\"},\n",
    "    \"cookbook\": {\"cookbook\", \"cooking\", \"recipes\"},\n",
    "    \"poetry\": {\"poetry\", \"verse\", \"rhyme\"},\n",
    "    \"drama\": {\"drama\", \"play\", \"theatre\"},\n",
    "    \"humor\": {\"humor\", \"comedy\", \"funny\"},\n",
    "    \"children\": {\"children's literature\", \"kids\", \"juvenile\"},\n",
    "    \"ya\": {\"young adult literature\", \"ya\", \"teen\"},\n",
    "    \"graphic\": {\"graphic novels\", \"comics\", \"sequential art\"},\n",
    "    \"psychology\": {\"psychology\", \"mind\", \"mental health\", \"therapy\", \"counseling\"},\n",
    "    \"philosophy\": {\"philosophy\", \"ethics\", \"morality\", \"metaphysics\", \"logic\"},\n",
    "    \"science\": {\"science\", \"scientific\", \"biology\", \"chemistry\", \"physics\"},\n",
    "    \"excited\": {\"excited\", \"thrilled\", \"elated\", \"eager\"},\n",
    "    \"Happy\": {\"happy\", \"joyful\", \"pleased\", \"content\"},\n",
    "    \"angry\": {\"angry\", \"outraged\", \"furious\", \"irritated\"},\n",
    "    \"Sad\": {\"sad\", \"heartbroken\", \"miserable\", \"depressed\"},\n",
    "    \"Neutral\": {\"neutral\", \"indifferent\", \"objective\", \"unbiased\"},\n",
    "    \"Content\": {\"content\", \"satisfied\", \"grateful\", \"thankful\"},\n",
    "    \"Enthusiastic\": {\"enthusiastic\", \"passionate\", \"zealous\", \"fervent\"},\n",
    "    \"Surprised\": {\"surprised\", \"shocked\", \"amazed\", \"astounded\"},\n",
    "    \"Disappointed\": {\"disappointed\", \"let down\", \"unhappy\", \"dissatisfied\"},\n",
    "    \"Frustrated\": {\"frustrated\", \"exasperated\", \"annoyed\", \"irritated\"},\n",
    "    \"Proud\": {\"proud\", \"accomplished\", \"confident\", \"self-assured\"},\n",
    "    \"Jealous\": {\"jealous\", \"envious\", \"covetous\", \"possessive\"},\n",
    "    \"Hopeful\": {\"hopeful\", \"optimistic\", \"positive\", \"confident\"},\n",
    "    \"Worried\": {\"worried\", \"anxious\", \"concerned\", \"uneasy\"},\n",
    "    \"Insecure\": {\"insecure\", \"uncertain\", \"self-doubting\", \"unconfident\"},\n",
    "    \"Grateful\": {\"grateful\", \"thankful\", \"appreciative\", \"indebted\"},\n",
    "    \"Calm\": {\"calm\", \"relaxed\", \"serene\", \"placid\"},\n",
    "    \"Lonely\": {\"lonely\", \"isolated\", \"alone\", \"desolate\"},\n",
    "    \"Nervous\": {\"nervous\", \"apprehensive\", \"fearful\", \"timid\"}\n",
    "}\n"
   ]
  },
  {
   "cell_type": "code",
   "execution_count": 20,
   "id": "18cdc1bc",
   "metadata": {},
   "outputs": [],
   "source": [
    "emotions = [\"Excited\", \"Happy\", \"Angry\", \"Sad\", \"Neutral\", \"Content\", \"Enthusiastic\", \"Surprised\",\n",
    "\"Disappointed\", \"Frustrated\", \"Proud\", \"Jealous\", \"Hopeful\", \"Worried\", \"Insecure\",\n",
    "\"Grateful\", \"Calm\", \"Lonely\", \"Nervous\"]"
   ]
  },
  {
   "cell_type": "code",
   "execution_count": 21,
   "id": "1536f0c7",
   "metadata": {},
   "outputs": [
    {
     "data": {
      "text/plain": [
       "1                    A Clockwork Orange\n",
       "2                            The Plague\n",
       "4                  A Fire Upon the Deep\n",
       "5        All Quiet on the Western Front\n",
       "6                  A Wizard of Earthsea\n",
       "                      ...              \n",
       "16549                    The Third Lynx\n",
       "16551                    Remote Control\n",
       "16555                 Transfer of Power\n",
       "16556                           Decoded\n",
       "16558                         Poor Folk\n",
       "Name: BookTitle, Length: 8732, dtype: object"
      ]
     },
     "execution_count": 21,
     "metadata": {},
     "output_type": "execute_result"
    }
   ],
   "source": [
    "# Define the set of emotions you want to filter by\n",
    "target_emotion = 'Neutral'\n",
    "\n",
    "# Filter the 'BookTitle' column based on the presence of the target emotion\n",
    "books = df[df['emotion'].apply(lambda x: x in target_emotion)]['BookTitle']\n",
    "books\n"
   ]
  },
  {
   "cell_type": "code",
   "execution_count": 34,
   "id": "5e28fe96",
   "metadata": {},
   "outputs": [
    {
     "name": "stdout",
     "output_type": "stream",
     "text": [
      "Input :- Romantic\n",
      "-------------------------------\n",
      "648370    The Ghost Writer\n",
      "245599       Cold Mountain\n",
      "245625       Cold Mountain\n",
      "245616       Cold Mountain\n",
      "64438       The Lake House\n",
      "Name: book_title, dtype: object\n",
      "-------------------------------\n"
     ]
    }
   ],
   "source": [
    "input_str = input(\"Input :- \")\n",
    "selected_keyword = None\n",
    "for keyword, values in keywords.items():\n",
    "    for value in values:\n",
    "        if value in input_str.lower():\n",
    "            selected_keyword = keyword\n",
    "            break\n",
    "    if selected_keyword:\n",
    "        break\n",
    "else:\n",
    "    selected_keyword = 'default_value'  # Set some default value if no keyword is found\n",
    "\n",
    "genre = get_genre([selected_keyword])\n",
    "if set(genre) <= set(emotions):\n",
    "    books = df[df['emotion'].apply(lambda x: x in selected_keyword)]['BookTitle']\n",
    "else:\n",
    "    books = df[df['Cleaned_Genre'].apply(lambda x: set(genre).intersection(x)).astype(bool)]['BookTitle']\n",
    "\n",
    "# Filter df2 to only include books in the \"books\" list\n",
    "df2_filtered = df2[df2['book_title'].isin(books)]\n",
    "\n",
    "# Sort df2 by descending rating\n",
    "df2_sorted = df2_filtered.sort_values(by='rating', ascending=False)\n",
    "\n",
    "# Display the book titles in the sorted dataframe\n",
    "print(\"-------------------------------\")\n",
    "print(df2_sorted['book_title'].head(5))\n",
    "print(\"-------------------------------\")\n"
   ]
  },
  {
   "cell_type": "code",
   "execution_count": 35,
   "id": "f6e49026",
   "metadata": {},
   "outputs": [],
   "source": [
    "genre = get_genre([selected_keyword])\n",
    "if set(genre) <= set(emotions):\n",
    "    print('true')"
   ]
  },
  {
   "cell_type": "code",
   "execution_count": 36,
   "id": "f5ef7e43",
   "metadata": {},
   "outputs": [
    {
     "data": {
      "text/plain": [
       "Series([], Name: BookTitle, dtype: object)"
      ]
     },
     "execution_count": 36,
     "metadata": {},
     "output_type": "execute_result"
    }
   ],
   "source": [
    "books = df[df['emotion'].apply(lambda x: set(genre).intersection(x)).astype(bool)]['BookTitle']\n",
    "books"
   ]
  },
  {
   "cell_type": "code",
   "execution_count": 33,
   "id": "c88ef7fc",
   "metadata": {},
   "outputs": [],
   "source": [
    "# # Merge the two datasets on book title\n",
    "# merged_df = pd.merge(df, df2, on='book_title')\n",
    "\n",
    "# # Filter the merged dataset to only include rows with selected emotion keywords\n",
    "# filtered_df = merged_df[merged_df['emotion'].isin(selected_keyword)]\n",
    "\n",
    "# # Sort the filtered dataset by descending rating\n",
    "# sorted_df = filtered_df.sort_values(by='rating', ascending=False)\n",
    "\n",
    "# # Get top 5 book titles\n",
    "# top_books = sorted_df['book_title'].iloc[:5]\n"
   ]
  },
  {
   "cell_type": "markdown",
   "id": "dedf289d",
   "metadata": {},
   "source": [
    "### At Finally , it will recommend top 5 books"
   ]
  },
  {
   "cell_type": "code",
   "execution_count": 37,
   "id": "0f9e9622",
   "metadata": {},
   "outputs": [
    {
     "name": "stdout",
     "output_type": "stream",
     "text": [
      "Recommended books for {'Unknown'}\n",
      "- The Ghost Writer\n",
      "- Cold Mountain\n",
      "- The Lake House\n",
      "- The Assignment\n",
      "- 2nd Chance\n"
     ]
    }
   ],
   "source": [
    "selected_books = []\n",
    "top_5_books = []\n",
    "for book_title in df2_sorted['book_title']:\n",
    "    if book_title not in selected_books:\n",
    "        top_5_books.append(book_title)\n",
    "        selected_books.append(book_title)\n",
    "        if len(top_5_books) == 5:\n",
    "            break\n",
    "print(f\"Recommended books for {genre}\")\n",
    "for item in top_5_books:\n",
    "    print('- ' + item)\n",
    "# print(top_5_books)\n"
   ]
  },
  {
   "cell_type": "code",
   "execution_count": null,
   "id": "73bdd75d",
   "metadata": {},
   "outputs": [],
   "source": [
    "df.to_csv('output.csv', index=False)\n"
   ]
  },
  {
   "cell_type": "code",
   "execution_count": null,
   "id": "eb216d76",
   "metadata": {},
   "outputs": [],
   "source": []
  }
 ],
 "metadata": {
  "kernelspec": {
   "display_name": "Python 3",
   "language": "python",
   "name": "python3"
  },
  "language_info": {
   "codemirror_mode": {
    "name": "ipython",
    "version": 3
   },
   "file_extension": ".py",
   "mimetype": "text/x-python",
   "name": "python",
   "nbconvert_exporter": "python",
   "pygments_lexer": "ipython3",
   "version": "3.8.8"
  }
 },
 "nbformat": 4,
 "nbformat_minor": 5
}
